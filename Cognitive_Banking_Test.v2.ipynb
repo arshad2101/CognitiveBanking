{
 "cells": [
  {
   "cell_type": "markdown",
   "metadata": {},
   "source": [
    "# Inputs to the Model"
   ]
  },
  {
   "cell_type": "code",
   "execution_count": null,
   "metadata": {},
   "outputs": [],
   "source": [
    "no_of_training_records =100 # -1 for all recods in the inputs"
   ]
  },
  {
   "cell_type": "markdown",
   "metadata": {},
   "source": [
    "# Data load from Nimbix File Manager\n",
    "\n",
    "Update the **username**, **password** and **traning url** for the current nimbix file manager instance"
   ]
  },
  {
   "cell_type": "code",
   "execution_count": null,
   "metadata": {},
   "outputs": [],
   "source": [
    "!pip install pandas\n",
    "import pandas as pd\n",
    "testdf = pd.read_csv('/data/CognitiveBanking/data/prediction.csv')\n",
    "testdf = testdf.head(no_of_training_records)\n",
    "testdf"
   ]
  },
  {
   "cell_type": "code",
   "execution_count": null,
   "metadata": {},
   "outputs": [],
   "source": [
    "\n",
    "testdf = testdf.head(no_of_training_records)\n",
    "testdf = testdf.dropna(subset = ['loan_amnt',\n",
    "                           'funded_amnt',\n",
    "                           'funded_amnt_inv', \n",
    "                           'int_rate',\n",
    "                           'annual_inc', \n",
    "                           'dti',\n",
    "                           'open_acc', \n",
    "                           'revol_bal',\n",
    "                           'revol_util', \n",
    "                           'total_acc',\n",
    "                           'total_rec_int', \n",
    "                           'tot_cur_bal',\n",
    "                           'total_rev_hi_lim'\n",
    "                           ])\n",
    "\n",
    "testdf = testdf.reset_index(drop=True)\n",
    "testdf"
   ]
  },
  {
   "cell_type": "markdown",
   "metadata": {},
   "source": [
    "# Directory to fetch model"
   ]
  },
  {
   "cell_type": "code",
   "execution_count": null,
   "metadata": {},
   "outputs": [],
   "source": [
    "from os.path import expanduser\n",
    "import glob\n",
    "\n",
    "modelDir = expanduser(\"~\")+'/model'"
   ]
  },
  {
   "cell_type": "markdown",
   "metadata": {},
   "source": [
    "# Filter the required columns"
   ]
  },
  {
   "cell_type": "code",
   "execution_count": null,
   "metadata": {},
   "outputs": [],
   "source": [
    "\n",
    "\n",
    "inputXtest = testdf.loc[:, ['loan_amnt',\n",
    "                           'funded_amnt',\n",
    "                           'funded_amnt_inv', \n",
    "                           'int_rate',\n",
    "                           'annual_inc', \n",
    "                           'dti',\n",
    "                           'open_acc', \n",
    "                           'revol_bal',\n",
    "                           'revol_util', \n",
    "                           'total_acc',\n",
    "                           'total_rec_int', \n",
    "                           'tot_cur_bal',\n",
    "                           'total_rev_hi_lim'\n",
    "                           ]].as_matrix()\n",
    "\n",
    "print('Test Data')\n",
    "print(inputXtest.shape)\n",
    "print('\\n')"
   ]
  },
  {
   "cell_type": "markdown",
   "metadata": {},
   "source": [
    "# Restore the tensorflow saved model"
   ]
  },
  {
   "cell_type": "code",
   "execution_count": null,
   "metadata": {},
   "outputs": [],
   "source": [
    "import os\n",
    "import tensorflow as tf\n",
    "import glob\n",
    "\n",
    "sess = tf.Session() \n",
    "\n",
    "list_of_files = glob.glob(modelDir+'/*') # * means all if need specific format then *.csv\n",
    "if(len(list_of_files)>0):\n",
    "    latest_file = max(list_of_files, key=os.path.getctime)\n",
    "    saver = tf.train.import_meta_graph(latest_file)\n",
    "    saver.restore(sess,tf.train.latest_checkpoint(modelDir+'/.'))\n",
    "    graph = tf.get_default_graph()"
   ]
  },
  {
   "cell_type": "markdown",
   "metadata": {},
   "source": [
    "# Insert the test data for prediction"
   ]
  },
  {
   "cell_type": "code",
   "execution_count": null,
   "metadata": {
    "scrolled": false
   },
   "outputs": [],
   "source": [
    "import numpy as np\n",
    "from pandas import Series\n",
    "X = graph.get_tensor_by_name('X_Input:0')\n",
    "Y = graph.get_tensor_by_name('Y_Output:0')\n",
    "clssification = sess.run(Y, feed_dict={X: inputXtest})\n",
    "outputdf = (pd.DataFrame(clssification)[0]).astype('int64')\n",
    "testdf['predicted'] = outputdf\n",
    "pd.options.display.float_format = '{:,.0f}'.format\n",
    "match=0\n",
    "for index, row in testdf.iterrows():\n",
    "    if row['loan_status'] == row['predicted']:\n",
    "        match=match+1\n",
    "accuracy =  match*100/testdf.shape[0]       \n",
    "print(\"Prediction Accuracy: \",accuracy)          \n",
    "testdf"
   ]
  }
 ],
 "metadata": {
  "kernelspec": {
   "display_name": "Python 3",
   "language": "python",
   "name": "python3"
  },
  "language_info": {
   "codemirror_mode": {
    "name": "ipython",
    "version": 3
   },
   "file_extension": ".py",
   "mimetype": "text/x-python",
   "name": "python",
   "nbconvert_exporter": "python",
   "pygments_lexer": "ipython3",
   "version": "3.5.2"
  }
 },
 "nbformat": 4,
 "nbformat_minor": 2
}
